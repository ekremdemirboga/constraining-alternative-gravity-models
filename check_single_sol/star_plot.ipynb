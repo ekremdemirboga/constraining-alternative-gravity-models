{
 "cells": [
  {
   "cell_type": "code",
   "execution_count": 1,
   "metadata": {},
   "outputs": [],
   "source": [
    "import numpy as np\n",
    "import matplotlib.pyplot as plt\n",
    "import glob\n",
    "import os\n",
    "from matplotlib import cm"
   ]
  },
  {
   "cell_type": "code",
   "execution_count": 2,
   "metadata": {},
   "outputs": [],
   "source": [
    "\n",
    "def read_data(filename):\n",
    "    r=[]\n",
    "    mu=[]\n",
    "    psi = []\n",
    "    phi=[]\n",
    "    pressure = []\n",
    "    rho = []\n",
    "    indepres = []\n",
    "\n",
    "\n",
    "\n",
    "    datafile=open(filename,'r')\n",
    "    lines = datafile.readlines()[1:]\n",
    "    for line in lines:\n",
    "        (a,b,c,d,e,f,g)=line.split()\n",
    "        r.append(float(a))\n",
    "        mu.append(float(b))\n",
    "        psi.append(float(c))\n",
    "        phi.append(float(d))\n",
    "        pressure.append(float(e))\n",
    "        rho.append(float(f))\n",
    "        indepres.append(float(g))\n",
    "\n",
    "\n",
    "\n",
    "    datafile.close()\n",
    "    return np.array(r),np.array(mu),np.array(psi),np.array(phi),np.array(pressure),np.array(rho),np.array(indepres)"
   ]
  },
  {
   "cell_type": "code",
   "execution_count": 3,
   "metadata": {},
   "outputs": [],
   "source": [
    "star = sorted(glob.glob('*.txt'), key=os.path.getmtime)"
   ]
  },
  {
   "cell_type": "code",
   "execution_count": 7,
   "metadata": {},
   "outputs": [
    {
     "name": "stdout",
     "output_type": "stream",
     "text": [
      "sol_n_1025_beta_-42.000000_mass_st_23.000000_r_8p450000e-02_phic_5p647453e-03_rhoc_1p866820e+01.txt\n"
     ]
    },
    {
     "data": {
      "image/png": "[encoded data removed]",
      "text/plain": [
       "<Figure size 576x324 with 1 Axes>"
      ]
     },
     "metadata": {
      "needs_background": "light"
     },
     "output_type": "display_data"
    },
    {
     "data": {
      "image/png": "[encoded data removed]",
      "text/plain": [
       "<Figure size 576x324 with 1 Axes>"
      ]
     },
     "metadata": {
      "needs_background": "light"
     },
     "output_type": "display_data"
    }
   ],
   "source": [
    "\n",
    "print(star[0])\n",
    "r,mu,psi,phi,pressure,rho,indepres= read_data(star[0])\n",
    "plt.figure()\n",
    "fig = plt.gcf()\n",
    "fig.set_size_inches(8, 4.5)\n",
    "plt.title(\"phi\")\n",
    "plt.semilogx(r, phi, color='r')\n",
    "\n",
    "plt.grid()\n",
    "\n",
    "\n",
    "\n",
    "# plt.figure()\n",
    "# fig = plt.gcf()\n",
    "# fig.set_size_inches(8, 4.5)\n",
    "# plt.title(\"rho\")\n",
    "# plt.semilogx(r, rho, color='r')\n",
    "# plt.grid()\n",
    "\n",
    "# plt.figure()\n",
    "# fig = plt.gcf()\n",
    "# fig.set_size_inches(8, 4.5)\n",
    "# plt.title(\"pressure\")\n",
    "# plt.semilogx(r, pressure, color='r')\n",
    "# plt.grid()\n",
    "\n",
    "trace = -rho+3*pressure\n",
    "plt.figure()\n",
    "fig = plt.gcf()\n",
    "fig.set_size_inches(8, 4.5)\n",
    "plt.title(\"trace\")\n",
    "plt.semilogx(r, trace, color='r')\n",
    "plt.grid()"
   ]
  },
  {
   "cell_type": "code",
   "execution_count": null,
   "metadata": {},
   "outputs": [],
   "source": []
  }
 ],
 "metadata": {
  "kernelspec": {
   "display_name": "Python 3.9.12 ('base')",
   "language": "python",
   "name": "python3"
  },
  "language_info": {
   "codemirror_mode": {
    "name": "ipython",
    "version": 3
   },
   "file_extension": ".py",
   "mimetype": "text/x-python",
   "name": "python",
   "nbconvert_exporter": "python",
   "pygments_lexer": "ipython3",
   "version": "3.9.12"
  },
  "orig_nbformat": 4,
  "vscode": {
   "interpreter": {
    "hash": "a30938e99d5f7a4dea524cf3d803fc4df9fb073af6520ff97971e71a0314266d"
   }
  }
 },
 "nbformat": 4,
 "nbformat_minor": 2
}
