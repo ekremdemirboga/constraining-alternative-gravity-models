{
 "cells": [
  {
   "cell_type": "code",
   "execution_count": 9,
   "metadata": {},
   "outputs": [],
   "source": [
    "import numpy as np\n",
    "import matplotlib.pyplot as plt"
   ]
  },
  {
   "cell_type": "code",
   "execution_count": 16,
   "metadata": {},
   "outputs": [],
   "source": [
    "def MRprobRead(directory): # reads the datafile in directory\n",
    "    firstColumn = []\n",
    "    secondColumn = []\n",
    "    thirdColumn = []\n",
    "    with open(directory) as f:\n",
    "    ##reads the neutron stars mass-radius-probability data files in a given directory.\n",
    "        for i in range(6):\n",
    "            next(f)\n",
    "        for line in f:\n",
    "            this_line = line.split()\n",
    "            if this_line[0] ==\"!\":\n",
    "                continue\n",
    "            firstColumn.append(float(this_line[0]))\n",
    "            secondColumn.append(float(this_line[1]))\n",
    "            thirdColumn.append(float(this_line[2]))\n",
    "    name = (directory)[8:-4]\n",
    "    return firstColumn, secondColumn, thirdColumn, name \n",
    "\n",
    "def convertProb(Prob,n_radius,n_mass):\n",
    "    Prob2d = np.reshape(Prob,(n_radius,n_mass))\n",
    "    Prob2d = np.transpose(Prob2d)\n",
    "    Prob2d = Prob2d/ np.sum(Prob2d)\n",
    "    print(np.sum(Prob2d))\n",
    "    return Prob2d\n",
    "    \n",
    "# def MaxProb(Radius,Mass,Prob):\n",
    "#     maxProbInd = np.argmax(Prob)\n",
    "#     maxRadius = Radius[maxProbInd]\n",
    "#     maxMass = Mass[maxProbInd]\n",
    "#     return maxRadius, maxMass   \n",
    "\n",
    "def MassRadius(datafile,type): #returns mass,radius,prob2d for each data file\n",
    "        firstColumn,secondColumn,thirdColumn,name = MRprobRead(\"MRprob2\"+\"/\"+datafile)\n",
    "        \n",
    "        if type==1:\n",
    "                # maxRadius, maxMass  = MaxProb(secondColumn, firstColumn, thirdColumn)\n",
    "                Radius = np.asarray(np.sort(list(set(secondColumn))))\n",
    "                n_radius = len(Radius)\n",
    "                Mass = np.asarray(firstColumn[:n_radius])\n",
    "                n_mass = len(Mass)\n",
    "                Prob = np.asarray(thirdColumn)\n",
    "                \n",
    "        elif type==2:\n",
    "                # maxRadius, maxMass  = MaxProb(firstColumn, secondColumn, thirdColumn)\n",
    "                Radius = np.asarray(np.sort(list(set(firstColumn))))\n",
    "                n_radius = 51\n",
    "                Mass = np.asarray(secondColumn[:51])\n",
    "                n_mass = 51\n",
    "                Prob = np.asarray(thirdColumn)\n",
    "        Prob2D = convertProb(Prob,n_radius,n_mass)\n",
    "        return Radius,Mass,Prob2D,name\n",
    "\n",
    "def contourplot(datafile,type): ## plots the datafile\n",
    "    Radius, Mass, Prob2D, name = MassRadius(datafile,type)\n",
    "    plt.figure()\n",
    "    plt.grid()\n",
    "    fig = plt.gcf()\n",
    "    fig.set_size_inches(11, 10)\n",
    "    plt.xlabel (\"Radius (km)\",fontsize=20)\n",
    "    plt.ylabel(r\"$M_{ADM} / M_{sun}$\",fontsize=20)\n",
    "    plt.title(name)\n",
    "    cs = plt.contourf(Radius, Mass, Prob2D,cmap ='cividis')\n",
    "    bar = plt.colorbar(cs)\n"
   ]
  },
  {
   "cell_type": "code",
   "execution_count": 17,
   "metadata": {},
   "outputs": [
    {
     "name": "stdout",
     "output_type": "stream",
     "text": [
      "MRprob_1608.dat\n",
      "1.0\n"
     ]
    },
    {
     "data": {
      "image/png": "[encoded data removed]",
      "text/plain": [
       "<Figure size 792x720 with 2 Axes>"
      ]
     },
     "metadata": {
      "needs_background": "light"
     },
     "output_type": "display_data"
    }
   ],
   "source": [
    "\n",
    "datafiles1= [\"MRprob_1608.dat\"] \n",
    "# \"MRprob_1724.dat\",\"MRprob_1731.dat\", \"MRprob_1745.dat\", \"MRprob_1748.dat\", \"MRprob_1820.dat\"]\n",
    "# datafiles2 = [\"MRprob_M13.dat\", \"MRprob_M28.dat\", \"MRprob_M30.dat\" , \"MRprob_NGC6304.dat\", \"MRprob_NGC6397.dat\",\"MRprob_OmCen.dat\" ,\"MRprob_X5.dat\",\"MRprob_X7.dat\"]\n",
    " \n",
    "\n",
    "for datafile in datafiles1:\n",
    "    print(datafile)\n",
    "    contourplot(datafile,1)\n",
    "# for datafile in datafiles2:\n",
    "#     contourplot(datafile,2)\n",
    "#     print(datafile)\n",
    "\n",
    "# f = open(\"maxProbs.txt\", \"w\")\n",
    "# f.writelines(\"Radius   Mass \\n\")\n",
    "# for datafile in datafiles1:\n",
    "#     Radius,Mass,Prob2D,name,maxRadius, maxMass = MassRadius(datafile,1)\n",
    "#     print(\"for\" + datafile+\" maxMass: \"+ str(maxMass) + \" maxRadius: \"+ str(maxRadius))\n",
    "#     f.writelines(str(maxRadius)+\" \"+ str(maxMass)+\"\\n\")\n",
    "# for datafile in datafiles2:\n",
    "#     Radius,Mass,Prob2D,name,maxRadius, maxMass = MassRadius(datafile,2)\n",
    "#     print(\"for\" + datafile+\" maxMass: \"+ str(maxMass) + \" maxRadius: \"+ str(maxRadius))\n",
    "#     f.writelines(str(maxRadius)+\" \"+ str(maxMass)+\"\\n\")\n",
    "# f.close()\n"
   ]
  },
  {
   "cell_type": "code",
   "execution_count": null,
   "metadata": {},
   "outputs": [],
   "source": []
  }
 ],
 "metadata": {
  "kernelspec": {
   "display_name": "Python 3.9.12 ('base')",
   "language": "python",
   "name": "python3"
  },
  "language_info": {
   "codemirror_mode": {
    "name": "ipython",
    "version": 3
   },
   "file_extension": ".py",
   "mimetype": "text/x-python",
   "name": "python",
   "nbconvert_exporter": "python",
   "pygments_lexer": "ipython3",
   "version": "3.9.12"
  },
  "orig_nbformat": 4,
  "vscode": {
   "interpreter": {
    "hash": "a30938e99d5f7a4dea524cf3d803fc4df9fb073af6520ff97971e71a0314266d"
   }
  }
 },
 "nbformat": 4,
 "nbformat_minor": 2
}
